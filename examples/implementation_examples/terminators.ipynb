{
 "cells": [
  {
   "cell_type": "markdown",
   "source": [
    "# Termination Criterion\n",
    "\n",
    "The [Termination Criterion module](https://github.com/BioSystemsUM/ReactEA/blob/main/src/reactea/optimization/jmetal/terminators.py) is used to stop the EAs.\n",
    "It is easy to extend.\n",
    "User defined Termination Criterion can be implemented.\n",
    "\n",
    "In ReactEA, by default, if a `patience` argument is specified in the configuration file, the Termination Criterion used is the `StoppingByEvaluationsOrImprovement` that stops the EA if the maximum number of generations is reached or if there is a number (`patience`) of generations where there is no improvement in the solutions. Otherwise, the `StoppingByEvaluations` Termination Criterion is used where the EA is stopped when the specified number of generations is reached.\n",
    "\n",
    "Other Termination Criterion can be used but must be implemented following the `TerminationCriterion` abstarct class.\n",
    "\n",
    "Some complex Termination Criterion must take into consideration if it's facing a single or multi-objective optimization problem and if the objective of each evaluation function is to be maximized or minimized."
   ],
   "metadata": {
    "collapsed": false
   }
  },
  {
   "cell_type": "markdown",
   "source": [
    "## Abstract Class\n",
    "\n",
    "Termination Criterion Abstract Class.\n",
    "\n",
    "Child Classes must implement all abstract methods (`update` and `is_met`).\n",
    "\n",
    "At each generation, the `update` method updates the Terminator Criterion and the `is_met` method checks if the Termination Criterion is met (if true stops the EA, if False continues)."
   ],
   "metadata": {
    "collapsed": false
   }
  },
  {
   "cell_type": "code",
   "execution_count": 1,
   "outputs": [],
   "source": [
    "from abc import abstractmethod, ABC\n",
    "from jmetal.core.observer import Observer\n",
    "\n",
    "\n",
    "class TerminationCriterion(Observer, ABC):\n",
    "\n",
    "    @abstractmethod\n",
    "    def update(self, *args, **kwargs):\n",
    "        pass\n",
    "\n",
    "    @property\n",
    "    @abstractmethod\n",
    "    def is_met(self):\n",
    "        pass"
   ],
   "metadata": {
    "collapsed": false
   }
  },
  {
   "cell_type": "markdown",
   "source": [
    "## Example of how a Termination Criterion must be implemented:"
   ],
   "metadata": {
    "collapsed": false
   }
  },
  {
   "cell_type": "code",
   "execution_count": 2,
   "outputs": [],
   "source": [
    "# Termination Criterion that Stops the EA if a maximum number of iterations is reached\n",
    "class StoppingByEvaluations(TerminationCriterion):\n",
    "\n",
    "    def __init__(self, max_evaluations: int):\n",
    "        super(StoppingByEvaluations, self).__init__()\n",
    "        self.max_evaluations = max_evaluations\n",
    "        self.evaluations = 0\n",
    "\n",
    "    def update(self, *args, **kwargs):\n",
    "        # at each generation the number of evaluations is increased by one unit\n",
    "        self.evaluations += 1\n",
    "\n",
    "    @property\n",
    "    def is_met(self):\n",
    "        # if the number of generations reaches the specified maximum, the EA is stopped\n",
    "        return self.evaluations >= self.max_evaluations"
   ],
   "metadata": {
    "collapsed": false
   }
  }
 ],
 "metadata": {
  "kernelspec": {
   "display_name": "Python 3",
   "language": "python",
   "name": "python3"
  },
  "language_info": {
   "codemirror_mode": {
    "name": "ipython",
    "version": 2
   },
   "file_extension": ".py",
   "mimetype": "text/x-python",
   "name": "python",
   "nbconvert_exporter": "python",
   "pygments_lexer": "ipython2",
   "version": "2.7.6"
  }
 },
 "nbformat": 4,
 "nbformat_minor": 0
}
