{
 "cells": [
  {
   "cell_type": "markdown",
   "source": [
    "# Case Studies"
   ],
   "metadata": {
    "collapsed": false
   }
  },
  {
   "cell_type": "markdown",
   "source": [
    "## Abstract Class\n",
    "\n",
    "ReactEA Case Study Abstract Class.\n",
    "\n",
    "Child Classes must implement all abstract methods (`objective`, `name` and `feval_names`)."
   ],
   "metadata": {
    "collapsed": false
   }
  },
  {
   "cell_type": "code",
   "execution_count": 1,
   "outputs": [],
   "source": [
    "from abc import abstractmethod, ABC\n",
    "\n",
    "\n",
    "class CaseStudy(ABC):\n",
    "    \"\"\"\n",
    "    Base class for all Case Studies.\n",
    "    A Case Study defines the evaluation functions to use in the optimization problem.\n",
    "    \"\"\"\n",
    "\n",
    "    def __init__(self, multi_objective: bool = False):\n",
    "        \"\"\"\n",
    "        Initializes the case study at a class level.\n",
    "\n",
    "        Parameters\n",
    "        ----------\n",
    "        multi_objective: bool\n",
    "            boolean defining if we are facing a single or multi-objective optimization problem.\n",
    "        \"\"\"\n",
    "        self.multi_objective = multi_objective\n",
    "\n",
    "    @abstractmethod\n",
    "    def objective(self):\n",
    "        \"\"\"\n",
    "        Defines the evaluation functions to use in the optimization problem taking into account if we are facing a\n",
    "        single or multi-objective problem.\n",
    "\n",
    "        Returns\n",
    "        -------\n",
    "        Problem\n",
    "            Problem object defining the evaluation functions of the optimization problem.\n",
    "        \"\"\"\n",
    "        raise NotImplementedError\n",
    "\n",
    "    @abstractmethod\n",
    "    def name(self):\n",
    "        \"\"\"\n",
    "        Defines the name of the Case Study.\n",
    "\n",
    "        Returns\n",
    "        -------\n",
    "        str\n",
    "            Name of the case study.\n",
    "        \"\"\"\n",
    "        return NotImplementedError\n",
    "\n",
    "    @abstractmethod\n",
    "    def feval_names(self):\n",
    "        \"\"\"\n",
    "        Defines the names of the evaluation functions used in the Case Study.\n",
    "\n",
    "        Returns\n",
    "        -------\n",
    "        str\n",
    "            Name of the evaluation functions used in the case study.\n",
    "        \"\"\"\n",
    "        return NotImplementedError"
   ],
   "metadata": {
    "collapsed": false
   }
  },
  {
   "cell_type": "markdown",
   "source": [
    "## Example of how to implement you own case studies\n",
    "\n",
    "It is easy to implement your own case studies.\n",
    "\n",
    "In ReactEA case studies can be used to optimize one or many evaluation functions."
   ],
   "metadata": {
    "collapsed": false
   }
  },
  {
   "cell_type": "markdown",
   "source": [
    "### Using the evaluation function wrapper:\n",
    "\n",
    "You need to provide:\n",
    "   - one or a list of evaluation functions\n",
    "  - whether to use multi-objective or single-objective (many evaluations can be aggregated into one);\n",
    "  - the name of the case study;\n",
    "  - the weights of each evaluation function (optional, used in the case you provide multiple evaluation functions but want to use a single-objective EA where the objectives are aggregated and wheighted based on this parameter)."
   ],
   "metadata": {
    "collapsed": false
   }
  },
  {
   "cell_type": "markdown",
   "source": [
    "### First you need to specify the evaluation functions to optimize (see [evaluation_functions.ipynb](evaluation_functions.ipynb) for more details)."
   ],
   "metadata": {
    "collapsed": false
   }
  },
  {
   "cell_type": "code",
   "execution_count": 5,
   "outputs": [],
   "source": [
    "from rdkit.Chem.QED import qed\n",
    "from reactea import evaluation_functions_wrapper\n",
    "\n",
    "# evaluation function returning the number of rings a molecule\n",
    "def number_of_rings(mol):\n",
    "    ri = mol.GetRingInfo()\n",
    "    n_rings = len(ri.AtomRings())\n",
    "    return n_rings\n",
    "\n",
    "n_rigs_feval = evaluation_functions_wrapper(number_of_rings, maximize=False, worst_fitness=100, name='n_rings')\n",
    "\n",
    "# evaluation function returning the drug-likeliness score (QED) of a molecule\n",
    "def qed_score(mol):\n",
    "    return qed(mol)\n",
    "\n",
    "qed_feval = evaluation_functions_wrapper(qed_score, maximize=True, worst_fitness=0.0, name='qed')"
   ],
   "metadata": {
    "collapsed": false
   }
  },
  {
   "cell_type": "markdown",
   "source": [
    "### Now the case study:"
   ],
   "metadata": {
    "collapsed": false
   }
  },
  {
   "cell_type": "code",
   "execution_count": 6,
   "outputs": [],
   "source": [
    "from reactea import case_study_wrapper\n",
    "\n",
    "# case study to optimize a single objective `f1` (minimize number of rings in a molecule)\n",
    "minimize_rings = case_study_wrapper(n_rigs_feval, multi_objective=False, name='minimize_rings')\n",
    "\n",
    "# case study to optimize a single objective but with multiple evaluation functions `f1` and `f2` (minimize number of rings in a molecule and maximize qed)\n",
    "# the number of evaluation functions must be the same as the number of values in weights and the sum of the weights must be 1\n",
    "minimize_rings_maximize_qed = case_study_wrapper([n_rigs_feval, qed_feval], multi_objective=False, name='minimize_rings_maximize_qed', weights=[0.3, 0.7])\n",
    "\n",
    "# case study to optimize multiple objectives simultaneous\n",
    "minimize_rings_maximize_qed_mo = case_study_wrapper([n_rigs_feval, qed_feval], multi_objective=True, name='minimize_rings_maximize_qed_mo')"
   ],
   "metadata": {
    "collapsed": false
   }
  },
  {
   "cell_type": "markdown",
   "source": [
    "## Creating your own class:\n",
    "\n",
    "The class needs to inherit from the `CaseStudt` class.\n",
    "It needs to implement its abstract methods (`objective`, `name` and `feval_names`)."
   ],
   "metadata": {
    "collapsed": false
   }
  },
  {
   "cell_type": "code",
   "execution_count": 7,
   "outputs": [],
   "source": [
    "from reactea.optimization.evaluation import AggregatedSum\n",
    "from reactea.optimization.problem import ChemicalProblem\n",
    "\n",
    "# single objective Case Study\n",
    "class RingsCaseStudy(CaseStudy):\n",
    "\n",
    "    def __init__(self):\n",
    "        super(RingsCaseStudy, self).__init__(multi_objective=False)\n",
    "        self.feval_names_str = None\n",
    "\n",
    "    def objective(self):\n",
    "        # define evaluation functions\n",
    "        f1 = n_rigs_feval()\n",
    "        problem = ChemicalProblem([f1])\n",
    "        self.feval_names_str = f\"{f1.method_str()}\"\n",
    "        return problem\n",
    "\n",
    "    def name(self):\n",
    "        return f\"RingsCaseStudy\"\n",
    "\n",
    "    def feval_names(self):\n",
    "        return self.feval_names_str\n",
    "\n",
    "# case study that can be used to single and multi-objective\n",
    "class RingsQedCaseStudy(CaseStudy):\n",
    "\n",
    "    def __init__(self, multi_objective):\n",
    "        super(RingsQedCaseStudy, self).__init__(multi_objective=multi_objective)\n",
    "        self.multi_objective = multi_objective\n",
    "        self.feval_names_str = None\n",
    "\n",
    "    def objective(self):\n",
    "        # define evaluation functions\n",
    "        f1 = n_rigs_feval()\n",
    "        f2 = qed_feval()\n",
    "\n",
    "        if self.multi_objective:\n",
    "            problem = ChemicalProblem([f1, f2])\n",
    "            self.feval_names_str = f\"{f1.method_str()};{f2.method_str()}\"\n",
    "            return problem\n",
    "        else:\n",
    "            # in case of single-objective with many evaluation functions use AggregatedSum and provide weights\n",
    "            f_ag = AggregatedSum([f1, f2], [0.25, 0.25, 0.5])\n",
    "            problem = ChemicalProblem([f_ag])\n",
    "            self.feval_names_str = f\"{f_ag.method_str()}\"\n",
    "            return problem\n",
    "\n",
    "    def name(self):\n",
    "        return f\"RingsQedCaseStudy\"\n",
    "\n",
    "    def feval_names(self):\n",
    "        return self.feval_names_str"
   ],
   "metadata": {
    "collapsed": false
   }
  }
 ],
 "metadata": {
  "kernelspec": {
   "display_name": "Python 3",
   "language": "python",
   "name": "python3"
  },
  "language_info": {
   "codemirror_mode": {
    "name": "ipython",
    "version": 2
   },
   "file_extension": ".py",
   "mimetype": "text/x-python",
   "name": "python",
   "nbconvert_exporter": "python",
   "pygments_lexer": "ipython2",
   "version": "2.7.6"
  }
 },
 "nbformat": 4,
 "nbformat_minor": 0
}
