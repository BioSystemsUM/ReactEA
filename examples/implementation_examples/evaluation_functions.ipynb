{
 "cells": [
  {
   "cell_type": "markdown",
   "source": [
    "# Evaluation Functions"
   ],
   "metadata": {
    "collapsed": false
   }
  },
  {
   "cell_type": "markdown",
   "source": [
    "## Abstract Class\n",
    "\n",
    "ReactEA Evaluation Functions Abstract Class.\n",
    "\n",
    "Child Classes must implement all abstract methods (`get_fitness_single` and `method_str`)."
   ],
   "metadata": {
    "collapsed": false
   }
  },
  {
   "cell_type": "code",
   "execution_count": 3,
   "outputs": [],
   "source": [
    "from joblib import Parallel, delayed\n",
    "from rdkit.Chem import Mol\n",
    "from typing import Union, List\n",
    "from abc import ABC, abstractmethod\n",
    "\n",
    "\n",
    "class ChemicalEvaluationFunction(ABC):\n",
    "    \"\"\"\n",
    "    Base class for chemical evaluation functions.\n",
    "    Child classes must implement the get_fitness and method_str methods.\n",
    "    \"\"\"\n",
    "\n",
    "    def __init__(self, maximize: bool = True, worst_fitness: float = 0.0):\n",
    "        \"\"\"\n",
    "        Initializes the Chemical Evaluation Function class.\n",
    "\n",
    "        Parameters\n",
    "        ----------\n",
    "        maximize: bool\n",
    "            If it is a maximization problem.\n",
    "        worst_fitness: float\n",
    "            The worst fitness that can given to a solution.\n",
    "        \"\"\"\n",
    "        self.maximize = maximize\n",
    "        self.worst_fitness = worst_fitness\n",
    "\n",
    "    def get_fitness(self, candidates: Union[Mol, List[Mol]]):\n",
    "        \"\"\"\n",
    "        Evaluates the fitness of the candidate(s).\n",
    "\n",
    "        Parameters\n",
    "        ----------\n",
    "        candidates: Union[Mol, List[Mol]]\n",
    "            The candidate(s) to evaluate.\n",
    "\n",
    "        Returns\n",
    "        -------\n",
    "        List[float]\n",
    "            The fitness(es) of the candidate(s).\n",
    "        \"\"\"\n",
    "        if isinstance(candidates, Mol):\n",
    "            candidates = [candidates]\n",
    "        return Parallel(n_jobs=-1, backend=\"multiprocessing\")(delayed(self.get_fitness_single)(candidate)\n",
    "                                                              for candidate in candidates)\n",
    "\n",
    "    @abstractmethod\n",
    "    def get_fitness_single(self, candidate: Mol):\n",
    "        \"\"\"\n",
    "        Get fitness of a single solution.\n",
    "\n",
    "        Parameters\n",
    "        ----------\n",
    "        candidate: Mol\n",
    "            Mol object to get fitness from.\n",
    "        Returns\n",
    "        -------\n",
    "        float\n",
    "            Fitness of the Mol object\n",
    "        \"\"\"\n",
    "        raise NotImplementedError\n",
    "\n",
    "    @abstractmethod\n",
    "    def method_str(self):\n",
    "        \"\"\"\n",
    "        Get name of the evaluation function.\n",
    "\n",
    "        Returns\n",
    "        -------\n",
    "        str:\n",
    "            name of the evaluation function.\n",
    "        \"\"\"\n",
    "        raise NotImplementedError\n",
    "\n",
    "    def __str__(self):\n",
    "        return self.method_str()\n",
    "\n",
    "    def __call__(self, candidate: Union[Mol, List[Mol]]):\n",
    "        return self.get_fitness(candidate)"
   ],
   "metadata": {
    "collapsed": false
   }
  },
  {
   "cell_type": "markdown",
   "source": [
    "## Example of how to implement you own evaluation functions\n",
    "\n",
    "ReactEA already has some [default evaluation functions](https://github.com/BioSystemsUM/ReactEA/blob/main/src/reactea/optimization/evaluation.py), however it is easy to implement your own.\n",
    "\n",
    "In ReactEA evaluation functions act on RDKit Mol objects."
   ],
   "metadata": {
    "collapsed": false
   }
  },
  {
   "cell_type": "markdown",
   "source": [
    "### Using the evaluation function wrapper:\n",
    "\n",
    "You need to provide:\n",
    "   - a callable that returns the score of a single Mol object;\n",
    "  - whether the objective is to maximize or minimize the score;\n",
    "  - the worst fitness when an invalid Mol is generated or when the evaluation function cannot be calculated;\n",
    "  - the name of the evaluation function."
   ],
   "metadata": {
    "collapsed": false
   }
  },
  {
   "cell_type": "code",
   "execution_count": 4,
   "outputs": [
    {
     "name": "stderr",
     "output_type": "stream",
     "text": [
      "[10:58:35] Initializing Normalizer\n"
     ]
    }
   ],
   "source": [
    "from rdkit.Chem.QED import qed\n",
    "from reactea import evaluation_functions_wrapper\n",
    "\n",
    "# dummy evaluation function (always returns 1)\n",
    "def dummy_eval_f(mol):\n",
    "    return 1\n",
    "\n",
    "f1 = evaluation_functions_wrapper(dummy_eval_f, maximize=True, worst_fitness=0, name='dummy_eval_f')\n",
    "\n",
    "# evaluation function returning the drug-likeliness score (QED) of a molecule\n",
    "def qed_score(mol):\n",
    "    return qed(mol)\n",
    "\n",
    "f2 = evaluation_functions_wrapper(qed_score, maximize=True, worst_fitness=0.0, name='qed')"
   ],
   "metadata": {
    "collapsed": false
   }
  },
  {
   "cell_type": "markdown",
   "source": [
    "## Creating your own class:\n",
    "\n",
    "The class needs to inherit from the `ChemicalEvaluationFunction` class.\n",
    "It needs to implement its abstract methods (`get_fitness_single` and `method_str`)."
   ],
   "metadata": {
    "collapsed": false
   }
  },
  {
   "cell_type": "code",
   "execution_count": 5,
   "outputs": [],
   "source": [
    "import numpy as np\n",
    "from rdkit.Chem.Descriptors import MolWt\n",
    "\n",
    "# evaluation class to maximize QED\n",
    "class QED(ChemicalEvaluationFunction):\n",
    "\n",
    "    def __init__(self, maximize: bool = True, worst_fitness: float = 0.0):\n",
    "        super(QED, self).__init__(maximize, worst_fitness)\n",
    "\n",
    "    def get_fitness_single(self, candidate: Mol):\n",
    "        try:\n",
    "            return qed(candidate)\n",
    "        except:\n",
    "            return self.worst_fitness\n",
    "\n",
    "    def method_str(self):\n",
    "        return \"QED\"\n",
    "\n",
    "# evaluation class to optimize molecules to have molecular weight between range\n",
    "class MolecularWeight(ChemicalEvaluationFunction):\n",
    "\n",
    "    def __init__(self,\n",
    "                 min_weight: float = 300.0,\n",
    "                 max_weight: float = 900,\n",
    "                 maximize: bool = True,\n",
    "                 worst_fitness: float = 0.0):\n",
    "        super(MolecularWeight, self).__init__(maximize, worst_fitness)\n",
    "        self.min_weight = min_weight\n",
    "        self.max_weight = max_weight\n",
    "\n",
    "    def _mol_weight(self, mol: Mol):\n",
    "        try:\n",
    "            mw = MolWt(mol)\n",
    "            if mw < self.min_weight:\n",
    "                # increasingly penalize molecules with molecular weight lower than the defined minimum\n",
    "                return np.cos((mw - self.min_weight+200) / 320)\n",
    "            elif mw < self.max_weight:\n",
    "                return 1.0\n",
    "            else:\n",
    "                # increasingly penalize molecules with molecular weight greater than the defined maximum\n",
    "                return 1.0 / np.log(mw / 250.0)\n",
    "        except Exception:\n",
    "            return self.worst_fitness\n",
    "\n",
    "    def get_fitness_single(self, candidate: Mol):\n",
    "        return self._mol_weight(candidate)\n",
    "\n",
    "    def method_str(self):\n",
    "        return \"MolecularWeight\""
   ],
   "metadata": {
    "collapsed": false
   }
  }
 ],
 "metadata": {
  "kernelspec": {
   "display_name": "Python 3",
   "language": "python",
   "name": "python3"
  },
  "language_info": {
   "codemirror_mode": {
    "name": "ipython",
    "version": 2
   },
   "file_extension": ".py",
   "mimetype": "text/x-python",
   "name": "python",
   "nbconvert_exporter": "python",
   "pygments_lexer": "ipython2",
   "version": "2.7.6"
  }
 },
 "nbformat": 4,
 "nbformat_minor": 0
}
